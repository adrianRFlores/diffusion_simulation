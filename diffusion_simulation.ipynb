{
  "nbformat": 4,
  "nbformat_minor": 0,
  "metadata": {
    "colab": {
      "provenance": []
    },
    "kernelspec": {
      "name": "python3",
      "display_name": "Python 3"
    },
    "language_info": {
      "name": "python"
    }
  },
  "cells": [
    {
      "cell_type": "code",
      "source": [
        "import numpy as np\n",
        "import matplotlib.pyplot as plt\n",
        "import random\n",
        "from matplotlib.animation import PillowWriter, FuncAnimation, FFMpegWriter\n",
        "from matplotlib import gridspec"
      ],
      "metadata": {
        "id": "iS3GH5NEjqdX"
      },
      "execution_count": 38,
      "outputs": []
    },
    {
      "cell_type": "markdown",
      "source": [
        "## **Inciso 1**"
      ],
      "metadata": {
        "id": "ImU7ZHAvpAGd"
      }
    },
    {
      "cell_type": "code",
      "execution_count": 39,
      "metadata": {
        "id": "TwFkmnaSxGox"
      },
      "outputs": [],
      "source": [
        "M, N = 50, 50  # Grid size\n",
        "r, s = 3, 3  # Subregion size (example, unused directly)\n",
        "# Define a subregion mask (MxN array)\n",
        "mask = np.ones((M, N), dtype=int)\n",
        "# Set the 20x20 region in the top-right corner to 0\n",
        "mask[:20, -20:] = 0\n",
        "\n",
        "T = 100  # Number of time steps"
      ]
    },
    {
      "cell_type": "code",
      "source": [
        "K = 0.2  # Diffusion speed parameter"
      ],
      "metadata": {
        "id": "FAyYPCxYPmKH"
      },
      "execution_count": 40,
      "outputs": []
    },
    {
      "cell_type": "code",
      "source": [
        "# Initialize the probability distribution u0\n",
        "u0 = np.random.rand(M, N)  # Initial grid, random for demonstration\n",
        "u0 *= mask\n",
        "\n",
        "bias_factor = 3  # Higher values bias more towards 0.\n",
        "u0 = np.power(u0, bias_factor)\n",
        "\n",
        "# Normalize so that the sum equals 1\n",
        "u0 = u0 / u0.sum()"
      ],
      "metadata": {
        "id": "KPL6Sb-xP77h"
      },
      "execution_count": 53,
      "outputs": []
    },
    {
      "cell_type": "code",
      "source": [
        "def diffusion_simulation_gif(M, N, r, s, u0, K, T, mask):\n",
        "    \"\"\"\n",
        "    Simulates the diffusion process on an MxN grid over T time steps, and returns the history of the grids.\n",
        "\n",
        "    Arguments:\n",
        "    - M: Number of rows in the grid.\n",
        "    - N: Number of columns in the grid.\n",
        "    - r: Number of rows in the subregion.\n",
        "    - s: Number of columns in the subregion.\n",
        "    - u0: Initial MxN grid (sum of elements = 1).\n",
        "    - K: Diffusion speed parameter (0 <= K <= 1).\n",
        "    - T: Number of time steps.\n",
        "    - mask: MxN bit mask representing the subregion (1 for active, 0 for inactive).\n",
        "\n",
        "    Returns:\n",
        "    - history: List of MxN grids at each time step.\n",
        "    \"\"\"\n",
        "\n",
        "    # Helper function to get 8 neighbors sum\n",
        "    def get_neighbors_sum(u, i, j):\n",
        "        neighbors = [\n",
        "            (i-1, j-1), (i-1, j), (i-1, j+1),\n",
        "            (i, j-1),           (i, j+1),\n",
        "            (i+1, j-1), (i+1, j), (i+1, j+1)\n",
        "        ]\n",
        "        sum_neighbors = 0\n",
        "        for ni, nj in neighbors:\n",
        "            if 0 <= ni < M and 0 <= nj < N:\n",
        "                sum_neighbors += u[ni, nj]\n",
        "        return sum_neighbors\n",
        "\n",
        "    # Initialize u with the initial probability distribution u0\n",
        "    u = np.copy(u0)\n",
        "    history = [np.copy(u)]  # Store each time step\n",
        "\n",
        "    # Time-stepping loop\n",
        "    for t in range(T):\n",
        "        u_new = np.copy(u)  # Create a copy to store the next state\n",
        "\n",
        "        # Loop through each cell in the subregion defined by the mask\n",
        "        for i in range(M):\n",
        "            for j in range(N):\n",
        "                if mask[i, j]:  # Only update cells in the active subregion\n",
        "                    neighbors_sum = get_neighbors_sum(u, i, j)\n",
        "                    u_new[i, j] = (1 - K) * u[i, j] + (K / 8) * neighbors_sum\n",
        "\n",
        "        # Apply the mask: set all positions where mask == 0 to 0\n",
        "        u_new *= mask\n",
        "\n",
        "        # Update the grid\n",
        "        u = u_new\n",
        "        history.append(np.copy(u))  # Save each timestep\n",
        "\n",
        "    return history\n"
      ],
      "metadata": {
        "id": "zHv2pCtMjk4m"
      },
      "execution_count": 54,
      "outputs": []
    },
    {
      "cell_type": "code",
      "source": [
        "# Run the diffusion simulation\n",
        "history = diffusion_simulation_gif(M, N, r, s, u0, K, T, mask)\n",
        "\n",
        "# Set up the figure and axes\n",
        "fig, ax = plt.subplots()\n",
        "cax = ax.matshow(history[0], cmap='viridis')\n",
        "time_text = ax.text(0.5, -0.1, '', ha='center', va='center', transform=ax.transAxes, fontsize=12)\n",
        "\n",
        "# Initialize plot with the first frame\n",
        "def init():\n",
        "    cax.set_array(history[0])\n",
        "    time_text.set_text('t = 0')\n",
        "    return [cax, time_text]\n",
        "\n",
        "# Update function for each frame\n",
        "def update(frame):\n",
        "    cax.set_array(history[frame])\n",
        "    time_text.set_text(f't = {frame}')\n",
        "    return [cax, time_text]\n",
        "\n",
        "# Create the animation\n",
        "ani = FuncAnimation(fig, update, frames=len(history), init_func=init, blit=True)\n",
        "\n",
        "# Save the animation as a gif\n",
        "ani.save(\"diffusion_simulation.gif\", writer=PillowWriter(fps=5))\n",
        "\n",
        "print(\"GIF created and saved as 'diffusion_simulation.gif'\")\n"
      ],
      "metadata": {
        "id": "aCAb9nezy8bM",
        "colab": {
          "base_uri": "https://localhost:8080/",
          "height": 494
        },
        "outputId": "960032b1-812d-4f9a-d634-341371b2ce15"
      },
      "execution_count": 55,
      "outputs": [
        {
          "output_type": "stream",
          "name": "stdout",
          "text": [
            "GIF created and saved as 'diffusion_simulation.gif'\n"
          ]
        },
        {
          "output_type": "display_data",
          "data": {
            "text/plain": [
              "<Figure size 640x480 with 1 Axes>"
            ],
            "image/png": "[encoded data removed]"
          },
          "metadata": {}
        }
      ]
    },
    {
      "cell_type": "markdown",
      "source": [
        "## **Inciso 2**"
      ],
      "metadata": {
        "id": "drNaVrcWo8OO"
      }
    },
    {
      "cell_type": "code",
      "source": [
        "N_exp = 5000\n",
        "P = 50"
      ],
      "metadata": {
        "id": "6uQtziNidNd0"
      },
      "execution_count": 56,
      "outputs": []
    },
    {
      "cell_type": "code",
      "source": [
        "def initialize_particles(M, N, u0, P):\n",
        "    flat_u0 = u0.flatten()\n",
        "    positions = np.arange(M * N)\n",
        "    particle_positions = np.random.choice(positions, size=P, p=flat_u0)\n",
        "    particles = [(pos // N, pos % N) for pos in particle_positions]\n",
        "    return particles"
      ],
      "metadata": {
        "id": "g4tHaSR_Psrd"
      },
      "execution_count": 57,
      "outputs": []
    },
    {
      "cell_type": "code",
      "source": [
        "def move_particle(particle, M, N, K, mask):\n",
        "    i, j = particle\n",
        "    if random.random() > K:\n",
        "        return (i, j)\n",
        "    neighbors = [\n",
        "        (i-1, j-1), (i-1, j), (i-1, j+1),\n",
        "        (i, j-1),            (i, j+1),\n",
        "        (i+1, j-1), (i+1, j), (i+1, j+1)\n",
        "    ]\n",
        "    valid_neighbors = [(ni, nj) for ni, nj in neighbors if 0 <= ni < M and 0 <= nj < N and mask[ni, nj] != 0]\n",
        "    return random.choice(valid_neighbors)"
      ],
      "metadata": {
        "id": "fKLM9nsfPtuY"
      },
      "execution_count": 58,
      "outputs": []
    },
    {
      "cell_type": "code",
      "source": [
        "def simulate_diffusion(M, N, u0, P, K, T, mask):\n",
        "    particles = initialize_particles(M, N, u0, P)\n",
        "    history = []\n",
        "    for t in range(T):\n",
        "        grid = np.zeros((M, N))\n",
        "        new_particles = []\n",
        "        for particle in particles:\n",
        "            new_particle = move_particle(particle, M, N, K, mask)\n",
        "            new_particles.append(new_particle)\n",
        "            grid[new_particle] += 1\n",
        "        history.append(grid)\n",
        "        particles = new_particles\n",
        "    return history"
      ],
      "metadata": {
        "id": "xlBSZixxPwq7"
      },
      "execution_count": 59,
      "outputs": []
    },
    {
      "cell_type": "code",
      "source": [
        "def simulate_multiple_runs(M, N, u0, P, K, T, N_exp, mask):\n",
        "    avg_grid = np.zeros((T, M, N))\n",
        "    for _ in range(N_exp):\n",
        "        history = simulate_diffusion(M, N, u0, P, K, T, mask)\n",
        "        for t in range(T):\n",
        "            avg_grid[t] += history[t]\n",
        "    # Scale by N_exp and normalize\n",
        "    for t in range(T):\n",
        "      avg_grid[t] /= avg_grid[t].sum()\n",
        "    avg_grid /= N_exp\n",
        "    avg_grid /= avg_grid.sum(axis=(1, 2), keepdims=True)  # Normalize\n",
        "    return avg_grid"
      ],
      "metadata": {
        "id": "S0sa-SVVPzHB"
      },
      "execution_count": 60,
      "outputs": []
    },
    {
      "cell_type": "code",
      "source": [
        "def generate_video(M, N, edp_history, T, filename=\"diffusion_comparison.mp4\"):\n",
        "    fig, ax = plt.subplots()\n",
        "    cax = ax.matshow(avg_grid[0], cmap='viridis')\n",
        "    time_text = ax.text(0.5, -0.1, '', ha='center', va='center', transform=ax.transAxes, fontsize=12)\n",
        "\n",
        "    def update(frame):\n",
        "        cax.set_data(edp_history[frame])\n",
        "        time_text.set_text(f't = {frame}')\n",
        "        return [cax, time_text]\n",
        "\n",
        "    writer = FFMpegWriter(fps=5)\n",
        "    with writer.saving(fig, filename, dpi=100):\n",
        "        for t in range(T):\n",
        "            update(t)\n",
        "            writer.grab_frame()"
      ],
      "metadata": {
        "id": "ZecECmQ1P2ab"
      },
      "execution_count": 61,
      "outputs": []
    },
    {
      "cell_type": "code",
      "source": [
        "# Run particle simulation\n",
        "avg_grid = simulate_multiple_runs(M, N, u0, P, K, T, N_exp, mask)\n",
        "\n",
        "# Comparative video generation\n",
        "generate_video(M, N, avg_grid, T, filename=\"particule_simulation.mp4\")\n",
        "\n",
        "print(\"Video created and saved as 'particule_simulation.mp4'\")\n"
      ],
      "metadata": {
        "colab": {
          "base_uri": "https://localhost:8080/",
          "height": 494
        },
        "id": "7JSXW4es4xeW",
        "outputId": "09f7f39e-2a15-415f-f7c2-054b2fd95a2a"
      },
      "execution_count": 62,
      "outputs": [
        {
          "output_type": "stream",
          "name": "stdout",
          "text": [
            "Video created and saved as 'particule_simulation.mp4'\n"
          ]
        },
        {
          "output_type": "display_data",
          "data": {
            "text/plain": [
              "<Figure size 640x480 with 1 Axes>"
            ],
            "image/png": "[encoded data removed]"
          },
          "metadata": {}
        }
      ]
    },
    {
      "cell_type": "markdown",
      "source": [
        "## **Inciso 3**"
      ],
      "metadata": {
        "id": "L_itv7Kwcjhg"
      }
    },
    {
      "cell_type": "code",
      "source": [
        "def generate_side_by_side_video(M, N, avg_grid, history, T, filename=\"diffusion_comparison_side_by_side.mp4\"):\n",
        "    fig = plt.figure(figsize=(10, 5))\n",
        "    gs = gridspec.GridSpec(1, 2, width_ratios=[1, 1])\n",
        "\n",
        "    ax1 = fig.add_subplot(gs[0])\n",
        "    ax2 = fig.add_subplot(gs[1])\n",
        "\n",
        "    cax1 = ax1.matshow(avg_grid[0], cmap='viridis')\n",
        "    cax2 = ax2.matshow(history[0], cmap='viridis')\n",
        "\n",
        "    ax1.set_title('Particle Simulation')\n",
        "    ax2.set_title('Diffusion Grid')\n",
        "\n",
        "    time_text1 = ax1.text(0.5, -0.1, '', ha='center', va='center', transform=ax1.transAxes, fontsize=12)\n",
        "    time_text2 = ax2.text(0.5, -0.1, '', ha='center', va='center', transform=ax2.transAxes, fontsize=12)\n",
        "\n",
        "    def update(frame):\n",
        "        # Update the data in the existing matshow plots\n",
        "        cax1.set_data(avg_grid[frame])\n",
        "        cax2.set_data(history[frame])\n",
        "\n",
        "        # Update the time labels\n",
        "        time_text1.set_text(f't = {frame}')\n",
        "        time_text2.set_text(f't = {frame}')\n",
        "\n",
        "    writer = FFMpegWriter(fps=5)\n",
        "    with writer.saving(fig, filename, dpi=100):\n",
        "        for t in range(T):\n",
        "            update(t)\n",
        "            writer.grab_frame()"
      ],
      "metadata": {
        "id": "QX0fNesiAtzZ"
      },
      "execution_count": 63,
      "outputs": []
    },
    {
      "cell_type": "code",
      "source": [
        "# Generate side-by-side video\n",
        "generate_side_by_side_video(M, N, avg_grid, history, T, filename=\"diffusion_comparison_side_by_side.mp4\")\n",
        "\n",
        "print(\"Side-by-side video created as 'diffusion_comparison_side_by_side.mp4'\")"
      ],
      "metadata": {
        "colab": {
          "base_uri": "https://localhost:8080/",
          "height": 497
        },
        "id": "qU_ynSWycncT",
        "outputId": "e50b07a8-9e2b-4a41-cbf3-30082a9d118f"
      },
      "execution_count": 64,
      "outputs": [
        {
          "output_type": "stream",
          "name": "stdout",
          "text": [
            "Side-by-side video created as 'diffusion_comparison_side_by_side.mp4'\n"
          ]
        },
        {
          "output_type": "display_data",
          "data": {
            "text/plain": [
              "<Figure size 1000x500 with 2 Axes>"
            ],
            "image/png": "[encoded data removed]"
          },
          "metadata": {}
        }
      ]
    }
  ]
}